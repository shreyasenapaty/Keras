{
 "cells": [
  {
   "cell_type": "code",
   "execution_count": 1,
   "id": "f68b379c",
   "metadata": {},
   "outputs": [],
   "source": [
    "import tensorflow as tf\n",
    "import matplotlib.pyplot as plt\n",
    "from tensorflow.keras.datasets import cifar10 "
   ]
  },
  {
   "cell_type": "code",
   "execution_count": 2,
   "id": "b801f7d5",
   "metadata": {},
   "outputs": [],
   "source": [
    "#load data\n",
    "(x_train, y_train),(x_test, y_test)=cifar10.load_data()"
   ]
  },
  {
   "cell_type": "code",
   "execution_count": 3,
   "id": "dc968ee5",
   "metadata": {},
   "outputs": [
    {
     "data": {
      "text/plain": [
       "(50000, 32, 32, 3)"
      ]
     },
     "execution_count": 3,
     "metadata": {},
     "output_type": "execute_result"
    }
   ],
   "source": [
    "#Normalizing Data\n",
    "x_train=x_train.astype('float64')\n",
    "x_train=x_train/255.0\n",
    "x_train.shape "
   ]
  },
  {
   "cell_type": "code",
   "execution_count": 4,
   "id": "fba9c686",
   "metadata": {},
   "outputs": [
    {
     "data": {
      "text/plain": [
       "(10000, 32, 32, 3)"
      ]
     },
     "execution_count": 4,
     "metadata": {},
     "output_type": "execute_result"
    }
   ],
   "source": [
    "x_test=x_test.astype('float64')\n",
    "x_test=x_test/255.0\n",
    "x_test.shape   "
   ]
  },
  {
   "cell_type": "code",
   "execution_count": 5,
   "id": "25173ce0",
   "metadata": {},
   "outputs": [
    {
     "data": {
      "text/plain": [
       "<matplotlib.image.AxesImage at 0x17910cb7100>"
      ]
     },
     "execution_count": 5,
     "metadata": {},
     "output_type": "execute_result"
    },
    {
     "data": {
      "image/png": "[encoded data removed]",
      "text/plain": [
       "<Figure size 432x288 with 1 Axes>"
      ]
     },
     "metadata": {
      "needs_background": "light"
     },
     "output_type": "display_data"
    }
   ],
   "source": [
    "#Test Image\n",
    "plt.imshow(x_test[0])"
   ]
  },
  {
   "cell_type": "code",
   "execution_count": 6,
   "id": "50ecc665",
   "metadata": {},
   "outputs": [],
   "source": [
    "model=tf.keras.models.Sequential()"
   ]
  },
  {
   "cell_type": "code",
   "execution_count": 7,
   "id": "f4d5b71f",
   "metadata": {},
   "outputs": [],
   "source": [
    "#Layer 1\n",
    "model.add(tf.keras.layers.Conv2D(filters=32,kernel_size=3, padding='same',activation='relu', kernel_initializer='orthogonal', input_shape=[32,32,3]))"
   ]
  },
  {
   "cell_type": "code",
   "execution_count": 8,
   "id": "795c6a04",
   "metadata": {},
   "outputs": [],
   "source": [
    "#Layer 2\n",
    "model.add(tf.keras.layers.Conv2D(filters=32,kernel_size=3, padding='same',activation='relu', kernel_initializer='he_uniform'))"
   ]
  },
  {
   "cell_type": "code",
   "execution_count": 9,
   "id": "9028a0b1",
   "metadata": {},
   "outputs": [],
   "source": [
    "#Max Pooling\n",
    "model.add(tf.keras.layers.MaxPool2D(pool_size=2,strides=2,padding='valid'))"
   ]
  },
  {
   "cell_type": "code",
   "execution_count": 10,
   "id": "72c88223",
   "metadata": {},
   "outputs": [],
   "source": [
    "#Layer 3\n",
    "model.add(tf.keras.layers.Conv2D(filters=64,kernel_size=3, padding='same',activation='relu', kernel_initializer='he_uniform'))"
   ]
  },
  {
   "cell_type": "code",
   "execution_count": 11,
   "id": "2db2d8c7",
   "metadata": {},
   "outputs": [],
   "source": [
    "#Layer 4\n",
    "model.add(tf.keras.layers.Conv2D(filters=64,kernel_size=3, padding='same',activation='relu', kernel_initializer='he_uniform'))"
   ]
  },
  {
   "cell_type": "code",
   "execution_count": 12,
   "id": "c470b590",
   "metadata": {},
   "outputs": [],
   "source": [
    "#Max Pooling 2\n",
    "model.add(tf.keras.layers.MaxPool2D(pool_size=2,strides=2,padding='valid'))"
   ]
  },
  {
   "cell_type": "code",
   "execution_count": 13,
   "id": "a61ce320",
   "metadata": {},
   "outputs": [],
   "source": [
    "#Flatten\n",
    "model.add(tf.keras.layers.Flatten())"
   ]
  },
  {
   "cell_type": "code",
   "execution_count": 14,
   "id": "33ba300e",
   "metadata": {},
   "outputs": [],
   "source": [
    "#Dropout - to reduce chances of over-fitting\n",
    "model.add(tf.keras.layers.Dropout(0.5,noise_shape=None,seed=None))"
   ]
  },
  {
   "cell_type": "code",
   "execution_count": 15,
   "id": "209a4935",
   "metadata": {},
   "outputs": [],
   "source": [
    "#First fully connected layer\n",
    "model.add(tf.keras.layers.Dense(units=128,activation='relu'))"
   ]
  },
  {
   "cell_type": "code",
   "execution_count": 16,
   "id": "30345208",
   "metadata": {},
   "outputs": [],
   "source": [
    "#Output Layer\n",
    "model.add(tf.keras.layers.Dense(units=10,activation='softmax'))"
   ]
  },
  {
   "cell_type": "code",
   "execution_count": 17,
   "id": "4b6852e7",
   "metadata": {},
   "outputs": [
    {
     "name": "stdout",
     "output_type": "stream",
     "text": [
      "Model: \"sequential\"\n",
      "_________________________________________________________________\n",
      "Layer (type)                 Output Shape              Param #   \n",
      "=================================================================\n",
      "conv2d (Conv2D)              (None, 32, 32, 32)        896       \n",
      "_________________________________________________________________\n",
      "conv2d_1 (Conv2D)            (None, 32, 32, 32)        9248      \n",
      "_________________________________________________________________\n",
      "max_pooling2d (MaxPooling2D) (None, 16, 16, 32)        0         \n",
      "_________________________________________________________________\n",
      "conv2d_2 (Conv2D)            (None, 16, 16, 64)        18496     \n",
      "_________________________________________________________________\n",
      "conv2d_3 (Conv2D)            (None, 16, 16, 64)        36928     \n",
      "_________________________________________________________________\n",
      "max_pooling2d_1 (MaxPooling2 (None, 8, 8, 64)          0         \n",
      "_________________________________________________________________\n",
      "flatten (Flatten)            (None, 4096)              0         \n",
      "_________________________________________________________________\n",
      "dropout (Dropout)            (None, 4096)              0         \n",
      "_________________________________________________________________\n",
      "dense (Dense)                (None, 128)               524416    \n",
      "_________________________________________________________________\n",
      "dense_1 (Dense)              (None, 10)                1290      \n",
      "=================================================================\n",
      "Total params: 591,274\n",
      "Trainable params: 591,274\n",
      "Non-trainable params: 0\n",
      "_________________________________________________________________\n"
     ]
    }
   ],
   "source": [
    "model.summary()"
   ]
  },
  {
   "cell_type": "code",
   "execution_count": 18,
   "id": "8f32a7e0",
   "metadata": {},
   "outputs": [],
   "source": [
    "#compiling\n",
    "model.compile(loss='sparse_categorical_crossentropy',optimizer='Adam',metrics=['sparse_categorical_accuracy'])"
   ]
  },
  {
   "cell_type": "code",
   "execution_count": 19,
   "id": "fc7cd43b",
   "metadata": {},
   "outputs": [
    {
     "name": "stdout",
     "output_type": "stream",
     "text": [
      "Epoch 1/10\n",
      "1563/1563 [==============================] - 224s 143ms/step - loss: 1.3991 - sparse_categorical_accuracy: 0.4939\n",
      "Epoch 2/10\n",
      "1563/1563 [==============================] - 216s 138ms/step - loss: 0.9777 - sparse_categorical_accuracy: 0.6527\n",
      "Epoch 3/10\n",
      "1563/1563 [==============================] - 208s 133ms/step - loss: 0.8161 - sparse_categorical_accuracy: 0.7136\n",
      "Epoch 4/10\n",
      "1563/1563 [==============================] - 209s 134ms/step - loss: 0.7288 - sparse_categorical_accuracy: 0.7429\n",
      "Epoch 5/10\n",
      "1563/1563 [==============================] - 207s 132ms/step - loss: 0.6613 - sparse_categorical_accuracy: 0.7654\n",
      "Epoch 6/10\n",
      "1563/1563 [==============================] - 204s 131ms/step - loss: 0.6014 - sparse_categorical_accuracy: 0.7870\n",
      "Epoch 7/10\n",
      "1563/1563 [==============================] - 195s 125ms/step - loss: 0.5607 - sparse_categorical_accuracy: 0.8004\n",
      "Epoch 8/10\n",
      "1563/1563 [==============================] - 192s 123ms/step - loss: 0.5244 - sparse_categorical_accuracy: 0.8143\n",
      "Epoch 9/10\n",
      "1563/1563 [==============================] - 189s 121ms/step - loss: 0.4915 - sparse_categorical_accuracy: 0.8254\n",
      "Epoch 10/10\n",
      "1563/1563 [==============================] - 206s 132ms/step - loss: 0.4648 - sparse_categorical_accuracy: 0.8355\n"
     ]
    },
    {
     "data": {
      "text/plain": [
       "<tensorflow.python.keras.callbacks.History at 0x17911edadf0>"
      ]
     },
     "execution_count": 19,
     "metadata": {},
     "output_type": "execute_result"
    }
   ],
   "source": [
    "model.fit(x_train,y_train,epochs=10)"
   ]
  },
  {
   "cell_type": "code",
   "execution_count": 20,
   "id": "d64ecc7a",
   "metadata": {},
   "outputs": [
    {
     "name": "stdout",
     "output_type": "stream",
     "text": [
      "313/313 [==============================] - 12s 39ms/step - loss: 0.6541 - sparse_categorical_accuracy: 0.7809\n"
     ]
    }
   ],
   "source": [
    "test_loss, test_accuracy= model.evaluate(x_test, y_test)"
   ]
  },
  {
   "cell_type": "code",
   "execution_count": 21,
   "id": "3b890714",
   "metadata": {},
   "outputs": [
    {
     "name": "stdout",
     "output_type": "stream",
     "text": [
      "Test accuracy: 0.7809000015258789\n"
     ]
    }
   ],
   "source": [
    "print(\"Test accuracy: {}\".format(test_accuracy))"
   ]
  },
  {
   "cell_type": "code",
   "execution_count": null,
   "id": "8aa51c70",
   "metadata": {},
   "outputs": [],
   "source": []
  }
 ],
 "metadata": {
  "kernelspec": {
   "display_name": "Python 3",
   "language": "python",
   "name": "python3"
  },
  "language_info": {
   "codemirror_mode": {
    "name": "ipython",
    "version": 3
   },
   "file_extension": ".py",
   "mimetype": "text/x-python",
   "name": "python",
   "nbconvert_exporter": "python",
   "pygments_lexer": "ipython3",
   "version": "3.8.8"
  }
 },
 "nbformat": 4,
 "nbformat_minor": 5
}
